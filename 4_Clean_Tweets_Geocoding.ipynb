{
 "cells": [
  {
   "cell_type": "markdown",
   "id": "6b048d09",
   "metadata": {},
   "source": [
    "## Cleaning the locations\n",
    "After we have tagged all tweets with a sentiment score, we want to map their locations over the Netherlands. Before we can do this, we need to clean the user locations to locations that can be picked up by the geocoder of OSM: [Nominatim](https://nominatim.openstreetmap.org/ui/search.html). In this notebook, we will showcase how we cleaned our tweets before geolocating. For this, we mainly made use of the regular expression, cbsodata and pandas modules."
   ]
  },
  {
   "cell_type": "code",
   "execution_count": 12,
   "id": "5cc48a71",
   "metadata": {},
   "outputs": [
    {
     "data": {
      "text/plain": [
       "(18684, 11)"
      ]
     },
     "execution_count": 12,
     "metadata": {},
     "output_type": "execute_result"
    }
   ],
   "source": [
    "# Importing modules\n",
    "import pandas as pd\n",
    "import numpy as np\n",
    "import re\n",
    "\n",
    "# Load in data from previous notebook\n",
    "df = pd.read_csv('final_sentiment_tweets.csv')\n",
    "df.shape"
   ]
  },
  {
   "cell_type": "markdown",
   "id": "bc0e8ac3",
   "metadata": {},
   "source": [
    "#### Cleaning for geocoding\n",
    "The cleaning for geocoding consists of dropping unnecessary columns, and rows with invalid locations that the user inputted as their user location. Since we use user profile locations and not geotagged tweets, there is a lot of non-sensical locations that users used as input (e.g. 'The moon', 'Everywhere') or locations that are not useful for our project (e.g. 'North-Holland', 'The Netherlands'). Therefore, we have to sift through the locations, so that we end up with a clean list of tweets with residency places."
   ]
  },
  {
   "cell_type": "code",
   "execution_count": 13,
   "id": "5a2a36bc",
   "metadata": {},
   "outputs": [
    {
     "data": {
      "text/plain": [
       "(12844, 11)"
      ]
     },
     "execution_count": 13,
     "metadata": {},
     "output_type": "execute_result"
    }
   ],
   "source": [
    "# Inspect the data\n",
    "df.shape\n",
    "\n",
    "# Select the column 'location' and delete the rows with empty cells in this location column\n",
    "df['location'].replace('', np.nan, inplace=True)\n",
    "\n",
    "# delete the NaN cells in location\n",
    "df.dropna(subset=['location'], inplace=True)\n",
    "\n",
    "# Inspect the data \n",
    "df.shape\n",
    "\n"
   ]
  },
  {
   "cell_type": "markdown",
   "id": "53d84342",
   "metadata": {},
   "source": [
    "#### Filtering the invalid locations\n",
    "Here the invalid locations are filtered, such as provinces or regions. Some unique cases (e.g. 's-Gravenhage, Jordaan) had enough cases to make changing by hand worthwile."
   ]
  },
  {
   "cell_type": "code",
   "execution_count": 14,
   "id": "4dccf379",
   "metadata": {},
   "outputs": [
    {
     "name": "stderr",
     "output_type": "stream",
     "text": [
      "<ipython-input-14-a32023a26c18>:2: FutureWarning: The default value of regex will change from True to False in a future version.\n",
      "  df['location'] = (df['location']\n"
     ]
    }
   ],
   "source": [
    "# Get rid of invalid words and locations, replace with empty string or correct version\n",
    "df['location'] = (df['location']\n",
    "                  .str.replace(\"Netherlands\", '', case=False)\n",
    "                  .str.replace(\"The Netherlands\", '', case=False)\n",
    "                  .str.replace(\"Nederland\", '', case=False)\n",
    "                  .str.replace(\"NL\", '', case=False)\n",
    "                  .str.replace(\"the\", '', case=False)\n",
    "                  .str.replace(\"[0-9]*\", '', case = False)\n",
    "                  .str.replace(\"Drenthe\", '', case = False)\n",
    "                  .str.replace(\"Flevoland\", '', case = False)\n",
    "                  .str.replace(\"Fryslân\", '', case = False)\n",
    "                  .str.replace(\"Friesland\", '', case = False)\n",
    "                  .str.replace(\"Gelderland\", '', case = False)\n",
    "                  .str.replace(\"Groningen\", '', case = False)\n",
    "                  .str.replace(\"Limburg\", '', case = False)\n",
    "                  .str.replace(\"Noord Brabant\", '', case = False)\n",
    "                  .str.replace(\"Noord-Brabant\", '', case = False)\n",
    "                  .str.replace(\"Noord Holland\", '', case = False)\n",
    "                  .str.replace(\"Noord-Holland\", '', case = False)\n",
    "                  .str.replace(\"Overijssel\", '', case = False)\n",
    "                  .str.replace(\"Zuid Holland\", '', case = False)\n",
    "                  .str.replace(\"Zuid-Holland\", '', case = False)\n",
    "                  .str.replace(\"Zeeland\", '', case = False)\n",
    "                  .str.replace(\"Achterhoek\", '', case = False)\n",
    "                  .str.lower()\n",
    "                  .str.replace('([^0-9a-z-\\' \\t])',' ')\n",
    "                  .str.replace(' +',' ')\n",
    "                  .str.replace(' hague', 'den haag')\n",
    "                  .str.replace(' north-holland','')\n",
    "                  .str.replace(' north holland','')\n",
    "                  .str.replace('den haag','\\'s-gravenhage')\n",
    "                  .str.replace(' nootdorp','')\n",
    "                  .str.replace('jordaan amsterdam','amsterdam')\n",
    "                  .str.replace('amsterdam area','amsterdam')\n",
    "                  .str.replace('\\'s heerenberg','\\'s-heerenberg')\n",
    "                  .str.replace('\\'s-heerenberg montferland','\\'s-heerenberg')\n",
    "                  .str.replace('den bosch', '\\'s-hertogenbosch'))\n",
    "\n",
    "# Drop again the cells that are left empty \n",
    "df['location'].replace('', np.nan, inplace=True)\n",
    "df.dropna(subset=['location'], inplace=True)"
   ]
  },
  {
   "cell_type": "markdown",
   "id": "0aa710d9",
   "metadata": {},
   "source": [
    "#### Checking results and exporting"
   ]
  },
  {
   "cell_type": "code",
   "execution_count": 15,
   "id": "f1d5f470",
   "metadata": {},
   "outputs": [
    {
     "data": {
      "text/html": [
       "<div>\n",
       "<style scoped>\n",
       "    .dataframe tbody tr th:only-of-type {\n",
       "        vertical-align: middle;\n",
       "    }\n",
       "\n",
       "    .dataframe tbody tr th {\n",
       "        vertical-align: top;\n",
       "    }\n",
       "\n",
       "    .dataframe thead th {\n",
       "        text-align: right;\n",
       "    }\n",
       "</style>\n",
       "<table border=\"1\" class=\"dataframe\">\n",
       "  <thead>\n",
       "    <tr style=\"text-align: right;\">\n",
       "      <th></th>\n",
       "      <th>id</th>\n",
       "      <th>created_at</th>\n",
       "      <th>screen_name</th>\n",
       "      <th>location</th>\n",
       "      <th>text</th>\n",
       "      <th>processed_text</th>\n",
       "      <th>translation</th>\n",
       "      <th>processed_text_en</th>\n",
       "      <th>google</th>\n",
       "      <th>party</th>\n",
       "      <th>lijsttrekker</th>\n",
       "    </tr>\n",
       "  </thead>\n",
       "  <tbody>\n",
       "    <tr>\n",
       "      <th>0</th>\n",
       "      <td>1.370000e+18</td>\n",
       "      <td>Tue Mar 16 23:59:54 +0000 2021</td>\n",
       "      <td>Rechtsevrouwen</td>\n",
       "      <td>ergens in</td>\n",
       "      <td>Kom kom zo’n powervrouw van #D66 kan toch wel ...</td>\n",
       "      <td>kom kom n powervrouw d66 wel maar woordje verr...</td>\n",
       "      <td>come come such a power woman from d66 can sure...</td>\n",
       "      <td>come come power woman d66 surely something wor...</td>\n",
       "      <td>0.3</td>\n",
       "      <td>d66</td>\n",
       "      <td>kaag</td>\n",
       "    </tr>\n",
       "    <tr>\n",
       "      <th>3</th>\n",
       "      <td>1.370000e+18</td>\n",
       "      <td>Tue Mar 16 23:59:35 +0000 2021</td>\n",
       "      <td>Rob4005</td>\n",
       "      <td>tiel</td>\n",
       "      <td>Bij de plannen van GroenLinks groeien bomen ni...</td>\n",
       "      <td>plannen groenlinks groeien bomen niet gekapt z...</td>\n",
       "      <td>in the plans of green links, trees do not grow...</td>\n",
       "      <td>plans green links, trees grow, cut pathetic bl...</td>\n",
       "      <td>-0.8</td>\n",
       "      <td>groenlinks</td>\n",
       "      <td>NaN</td>\n",
       "    </tr>\n",
       "    <tr>\n",
       "      <th>4</th>\n",
       "      <td>1.370000e+18</td>\n",
       "      <td>Tue Mar 16 23:59:16 +0000 2021</td>\n",
       "      <td>KaagPremier</td>\n",
       "      <td>jeruzalem palestina</td>\n",
       "      <td>Op het Museumplein in Amsterdam verzamelen zic...</td>\n",
       "      <td>museumplein amsterdam verzamelen eerste aanhan...</td>\n",
       "      <td>the first supporters gather on the museum squa...</td>\n",
       "      <td>first supporters gather museum square amsterda...</td>\n",
       "      <td>0.6</td>\n",
       "      <td>NaN</td>\n",
       "      <td>NaN</td>\n",
       "    </tr>\n",
       "    <tr>\n",
       "      <th>5</th>\n",
       "      <td>1.370000e+18</td>\n",
       "      <td>Tue Mar 16 23:59:05 +0000 2021</td>\n",
       "      <td>RenseSijbesma</td>\n",
       "      <td>dronrijp</td>\n",
       "      <td>ga stemmen morgen mensen en stem #FVD</td>\n",
       "      <td>ga stemmen morgen mensen stem fvd</td>\n",
       "      <td>go vote tomorrow folks and vote fvd</td>\n",
       "      <td>go vote tomorrow folks vote fvd</td>\n",
       "      <td>0.2</td>\n",
       "      <td>fvd</td>\n",
       "      <td>NaN</td>\n",
       "    </tr>\n",
       "    <tr>\n",
       "      <th>6</th>\n",
       "      <td>1.370000e+18</td>\n",
       "      <td>Tue Mar 16 23:58:46 +0000 2021</td>\n",
       "      <td>PascalyLilia</td>\n",
       "      <td>m xico</td>\n",
       "      <td>Langere wachttijden voor een woning geen betaa...</td>\n",
       "      <td>langere wachttijden woning betaalbare huizen i...</td>\n",
       "      <td>longer waiting times for a house no affordable...</td>\n",
       "      <td>longer waiting times house affordable houses d...</td>\n",
       "      <td>-0.6</td>\n",
       "      <td>NaN</td>\n",
       "      <td>NaN</td>\n",
       "    </tr>\n",
       "  </tbody>\n",
       "</table>\n",
       "</div>"
      ],
      "text/plain": [
       "             id                      created_at     screen_name  \\\n",
       "0  1.370000e+18  Tue Mar 16 23:59:54 +0000 2021  Rechtsevrouwen   \n",
       "3  1.370000e+18  Tue Mar 16 23:59:35 +0000 2021         Rob4005   \n",
       "4  1.370000e+18  Tue Mar 16 23:59:16 +0000 2021     KaagPremier   \n",
       "5  1.370000e+18  Tue Mar 16 23:59:05 +0000 2021   RenseSijbesma   \n",
       "6  1.370000e+18  Tue Mar 16 23:58:46 +0000 2021    PascalyLilia   \n",
       "\n",
       "              location                                               text  \\\n",
       "0            ergens in  Kom kom zo’n powervrouw van #D66 kan toch wel ...   \n",
       "3                 tiel  Bij de plannen van GroenLinks groeien bomen ni...   \n",
       "4  jeruzalem palestina  Op het Museumplein in Amsterdam verzamelen zic...   \n",
       "5             dronrijp              ga stemmen morgen mensen en stem #FVD   \n",
       "6               m xico  Langere wachttijden voor een woning geen betaa...   \n",
       "\n",
       "                                      processed_text  \\\n",
       "0  kom kom n powervrouw d66 wel maar woordje verr...   \n",
       "3  plannen groenlinks groeien bomen niet gekapt z...   \n",
       "4  museumplein amsterdam verzamelen eerste aanhan...   \n",
       "5                  ga stemmen morgen mensen stem fvd   \n",
       "6  langere wachttijden woning betaalbare huizen i...   \n",
       "\n",
       "                                         translation  \\\n",
       "0  come come such a power woman from d66 can sure...   \n",
       "3  in the plans of green links, trees do not grow...   \n",
       "4  the first supporters gather on the museum squa...   \n",
       "5                go vote tomorrow folks and vote fvd   \n",
       "6  longer waiting times for a house no affordable...   \n",
       "\n",
       "                                   processed_text_en  google       party  \\\n",
       "0  come come power woman d66 surely something wor...     0.3         d66   \n",
       "3  plans green links, trees grow, cut pathetic bl...    -0.8  groenlinks   \n",
       "4  first supporters gather museum square amsterda...     0.6         NaN   \n",
       "5                    go vote tomorrow folks vote fvd     0.2         fvd   \n",
       "6  longer waiting times house affordable houses d...    -0.6         NaN   \n",
       "\n",
       "  lijsttrekker  \n",
       "0         kaag  \n",
       "3          NaN  \n",
       "4          NaN  \n",
       "5          NaN  \n",
       "6          NaN  "
      ]
     },
     "execution_count": 15,
     "metadata": {},
     "output_type": "execute_result"
    }
   ],
   "source": [
    "# Strip whitespaces\n",
    "df['location'] = df['location'].str.strip()\n",
    "\n",
    "# Check the locations (locs should be cities/villages etc)\n",
    "locs = df['location'].value_counts()\n",
    "locs\n",
    "\n",
    "# Save location for next script\n",
    "df.to_csv('cleaned_geo_tweets.csv', header=True, index=False)\n",
    "\n",
    "#Check data structure\n",
    "df.head(5)"
   ]
  },
  {
   "cell_type": "markdown",
   "id": "097115c7",
   "metadata": {},
   "source": [
    "As can be seen above, the locations have been somewhat filtered. However, there are still a lot of invalid locations in there. Therefore some more thorough cleaning is needed in the next notebook."
   ]
  },
  {
   "cell_type": "code",
   "execution_count": 16,
   "id": "4803f038",
   "metadata": {},
   "outputs": [
    {
     "data": {
      "text/plain": [
       "                               1180\n",
       "amsterdam                      1094\n",
       "rotterdam                       402\n",
       "'s-gravenhage                   382\n",
       "nijmegen                        139\n",
       "                               ... \n",
       "rosmalen 's-gravenhage            1\n",
       "rheden tweets op pers titel       1\n",
       "mecca -                           1\n",
       "moraira                           1\n",
       "veganzones espa a                 1\n",
       "Name: location, Length: 3483, dtype: int64"
      ]
     },
     "execution_count": 16,
     "metadata": {},
     "output_type": "execute_result"
    }
   ],
   "source": [
    "# Count of locations\n",
    "locs = df['location'].value_counts()\n",
    "locs"
   ]
  }
 ],
 "metadata": {
  "kernelspec": {
   "display_name": "Python 3",
   "language": "python",
   "name": "python3"
  },
  "language_info": {
   "codemirror_mode": {
    "name": "ipython",
    "version": 3
   },
   "file_extension": ".py",
   "mimetype": "text/x-python",
   "name": "python",
   "nbconvert_exporter": "python",
   "pygments_lexer": "ipython3",
   "version": "3.8.8"
  }
 },
 "nbformat": 4,
 "nbformat_minor": 5
}
